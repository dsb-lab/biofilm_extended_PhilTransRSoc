{
 "cells": [
  {
   "cell_type": "code",
   "execution_count": 1,
   "metadata": {
    "collapsed": true
   },
   "outputs": [],
   "source": [
    "from __future__ import division\n",
    "import pandas as pd"
   ]
  },
  {
   "cell_type": "code",
   "execution_count": 2,
   "metadata": {
    "collapsed": false
   },
   "outputs": [
    {
     "name": "stdout",
     "output_type": "stream",
     "text": [
      "       name  value\n",
      "0     g_tht   0.30\n",
      "1       Krg   5.00\n",
      "2       nrg   2.00\n",
      "3  alpha_Rg   6.75\n",
      "4  delta_Rg  36.00\n",
      "        name  value\n",
      "0        Krg   2.25\n",
      "1        nrg   2.00\n",
      "2   alpha_Rg   4.50\n",
      "3   delta_Rg  24.00\n",
      "4  alpha_rRg  31.00\n"
     ]
    }
   ],
   "source": [
    "#full\n",
    "\n",
    "\n",
    "pars_full=pd.read_csv('parset_full.txt',sep=' ',header=None,names=['name','value'])\n",
    "print pars_full.head()\n",
    "\n",
    "pars_el=pd.read_csv('parset_electric.txt',sep=' ',header=None,names=['name','value'])\n",
    "print pars_el.head()"
   ]
  },
  {
   "cell_type": "code",
   "execution_count": 3,
   "metadata": {
    "collapsed": false
   },
   "outputs": [
    {
     "data": {
      "text/plain": [
       "'g_tht'"
      ]
     },
     "execution_count": 3,
     "metadata": {},
     "output_type": "execute_result"
    }
   ],
   "source": [
    "pars_full.iloc[[0]].values[0][0]"
   ]
  },
  {
   "cell_type": "code",
   "execution_count": 4,
   "metadata": {
    "collapsed": false
   },
   "outputs": [
    {
     "data": {
      "text/plain": [
       "True"
      ]
     },
     "execution_count": 4,
     "metadata": {},
     "output_type": "execute_result"
    }
   ],
   "source": [
    "'g_tht' in pars_full['name'].values"
   ]
  },
  {
   "cell_type": "code",
   "execution_count": 5,
   "metadata": {
    "collapsed": false
   },
   "outputs": [
    {
     "data": {
      "text/plain": [
       "0.3"
      ]
     },
     "execution_count": 5,
     "metadata": {},
     "output_type": "execute_result"
    }
   ],
   "source": [
    "pars_full[pars_full['name']=='g_tht']['value'].values[0]"
   ]
  },
  {
   "cell_type": "code",
   "execution_count": 6,
   "metadata": {
    "collapsed": false
   },
   "outputs": [
    {
     "name": "stdout",
     "output_type": "stream",
     "text": [
      "('nrg', 2.0)\n"
     ]
    }
   ],
   "source": [
    "r=2\n",
    "name,value=pars_full.iloc[[r]].values[0]\n",
    "print(name,value)"
   ]
  },
  {
   "cell_type": "code",
   "execution_count": 56,
   "metadata": {
    "collapsed": true
   },
   "outputs": [],
   "source": [
    "pars_ordered_table=['alpha_gt','Kgt','GE','Dg','alpha_a','delta_g','alpha_Rg','delta_Rg',\n",
    "                    'alpha_rRg','Krg','nrg','alpha_htg','K_htG','gamma_ht','nht','alpha_h','K_hg','n_hg','gamma_h','delta_a',\n",
    "                    'A_media','Da','beta_r','gamma_r','S0','GS0','ug','gamma_s','a0','Sth','b',\n",
    "                    'F','gk','Vk','Dp','Ikmax0','Dke','K_media','gl','dl','Vl','sigma','gv','V0','alpha_t','gamma_t','g_tht','Pgrow',\n",
    "                   'gamma_fl','a_fl','gamma_dif','a_dif','fl_Gext']"
   ]
  },
  {
   "cell_type": "code",
   "execution_count": 64,
   "metadata": {
    "collapsed": false
   },
   "outputs": [],
   "source": [
    "latex_dict={'GE':['$G_m$','mM'],\n",
    "            'K_media':['$K_m$','mM'],\n",
    "            'A_media':['$A_m$','mM'],\n",
    "            'alpha_gt':['$\\\\alpha_{gt}$','mM /($\\mathrm{\\mu}$M h)'],'Kgt':['$K_{gt}$','mM'],'fl_Gext':['$fl$','$\\mathrm{h^{-1}}$'],\n",
    "            'Dg':['$D_g$','$\\mathrm{\\mu m^2/h}$'],'alpha_a':['$\\\\alpha_a$','$\\mathrm{\\mu}$M$^{-1}$h$^{-1}$'],\n",
    "            'delta_g':['$\\\\delta_g$','mM$^{-1}$h$^{-1}$|h$^{-1}$'],'alpha_Rg':['$\\\\alpha_{Rg}$','$\\mathrm{\\mu}$M/h'],\n",
    "            'delta_Rg':['$\\\\delta_{Rg}$','h$^{-1}$'],\n",
    "            'sigma':['$\\\\sigma$',''],\n",
    "            'alpha_rRg':['$\\\\alpha_{rRg}$','$\\mathrm{\\mu}$M/h'],'Krg':['$K_{Rg}$','mM'],'alpha_htg':['$\\\\alpha_{hi}$','$\\mathrm{\\mu}$M/h'],\n",
    "            'K_htG':['$K_{hi}$','mM'],'gamma_ht':['$\\\\gamma_{hi}$','$\\mathrm{h^{-1}}$'],'alpha_h':['$\\\\alpha_h$','h$^{-1}$'],'K_hg':['$K_{h}$','mM'],\n",
    "            'nrg':['$n_{Rg}$',''],'nht':['$n_{hi}$',''],'n_hg':['$n_{h}$',''],'ug':['$u_g$',''],\n",
    "            'gamma_h':[\"$\\\\gamma_h$\",'$h^{-1}$'],'delta_a':['$\\delta_a$','mM$^{-1}$h$^{-1}$'],\n",
    "                    'Da':['$D_a$','$\\mathrm{\\mu m^2/h}$'],'beta_r':['$\\\\beta_r$','mM$^{-1}$h$^{-1}$'],\n",
    "            'gamma_r':['$\\\\gamma_r$','h$^{-1}$'],'S0':['$S_0$','$\\mathrm{\\mu}$M/h'],'GS0':['$G_{S0}$','mM'],\n",
    "            'gamma_s':['$\\\\gamma_s$','h$^{-1}$'],'a0':['$a_0$','h$^{-1}$'],'Sth':['$S_{th}$','$\\mathrm{\\mu}$M'],\n",
    "            'b':['$b$','h$^{-1}$'],'F':['$F$','mM/mV'],'gk':['$g_K$','h$^{-1}$'],'Vk':['$V_{K0}$','mV'],\n",
    "            'Dp':['$D_p$','mM$^{-2}$h$^{-1}$'],'Ikmax0':['$K_{Imax}$','mM'],\n",
    "            'Dke':['$D_k$','$\\mathrm{\\mu m^2/h}$'],'gl':['$g_L$','h$^{-1}$'],'Vl':['$V_{L0}$','mV'],'sigma':['$\\\\sigma$','mM'],\n",
    "            'gv':['$g_v$','mV$^{-1}$'],'V0':['$V_0$','mV'],'dl':['$d_L$','mV/mM'],'g_tht':['$g_\\\\mathcal{T}$','mV$^{-1}$'],'alpha_t':['$\\\\alpha_\\\\mathcal{T}$','$\\mathrm{\\mu}$M/h'],'gamma_t':['$\\\\gamma_\\\\mathcal{T}$','$\\mathrm{h^{-1}}$'],\n",
    "            'Pgrow':['$P_{grow}$','h$^{-1}$'],'gamma_fl':['$\\\\gamma_{\\\\phi}$','$\\mathrm{\\mu m}$'],'a_fl':['$a_{\\\\phi}$',''],\n",
    "           'gamma_dif':['$\\\\gamma_{D}$','$\\mathrm{\\mu m}$'],'a_dif':['$a_{D}$',''],'fl_Gext':['$\\\\phi$','h$^{-1}$']}"
   ]
  },
  {
   "cell_type": "code",
   "execution_count": null,
   "metadata": {
    "collapsed": true
   },
   "outputs": [],
   "source": []
  },
  {
   "cell_type": "code",
   "execution_count": 65,
   "metadata": {
    "collapsed": false
   },
   "outputs": [
    {
     "name": "stdout",
     "output_type": "stream",
     "text": [
      "$\\alpha_{gt}$ & 36.0 & 24.0 & mM /($\\mathrm{\\mu}$M h) \\\\\n",
      "$K_{gt}$ & 0.75 & 0.75 & mM \\\\\n",
      "$G_m$ & 30.0 & 30.0 & mM \\\\\n",
      "$D_g$ & 4e+06 & 4e+06 & $\\mathrm{\\mu m^2/h}$ \\\\\n",
      "$\\alpha_a$ & 4.5 & - & $\\mathrm{\\mu}$M$^{-1}$h$^{-1}$ \\\\\n",
      "$\\delta_g$ & 0.525 & 4.8 & mM$^{-1}$h$^{-1}$|h$^{-1}$ \\\\\n",
      "$\\alpha_{Rg}$ & 6.75 & 4.5 & $\\mathrm{\\mu}$M/h \\\\\n",
      "$\\delta_{Rg}$ & 36.0 & 24.0 & h$^{-1}$ \\\\\n",
      "$\\alpha_{rRg}$ & 45.0 & 31.0 & $\\mathrm{\\mu}$M/h \\\\\n",
      "$K_{Rg}$ & 5.0 & 2.25 & mM \\\\\n",
      "$n_{Rg}$ & 2.0 & 2.0 & - \\\\\n",
      "$\\alpha_{hi}$ & 0.075 & - & $\\mathrm{\\mu}$M/h \\\\\n",
      "$K_{hi}$ & 1.5 & - & mM \\\\\n",
      "$\\gamma_{hi}$ & 0.01 & - & $\\mathrm{h^{-1}}$ \\\\\n",
      "$n_{hi}$ & 2.0 & - & - \\\\\n",
      "$\\alpha_h$ & 3.0 & - & h$^{-1}$ \\\\\n",
      "$K_{h}$ & 0.4 & - & mM \\\\\n",
      "$n_{h}$ & 2.0 & - & - \\\\\n",
      "$\\gamma_h$ & 5.0 & - & $h^{-1}$ \\\\\n",
      "$\\delta_a$ & 0.135 & - & mM$^{-1}$h$^{-1}$ \\\\\n",
      "$A_m$ & 0.0 & - & mM \\\\\n",
      "$D_a$ & 7e+06 & - & $\\mathrm{\\mu m^2/h}$ \\\\\n",
      "$\\beta_r$ & 15.0 & - & mM$^{-1}$h$^{-1}$ \\\\\n",
      "$\\gamma_r$ & 6.0 & - & h$^{-1}$ \\\\\n",
      "$S_0$ & 1.12 & 1.12 & $\\mathrm{\\mu}$M/h \\\\\n",
      "$G_{S0}$ & 0.2 & 0.2 & mM \\\\\n",
      "$u_g$ & 2.0 & 2.0 & - \\\\\n",
      "$\\gamma_s$ & 2.8 & 2.8 & h$^{-1}$ \\\\\n",
      "$a_0$ & 91.0 & 91.0 & h$^{-1}$ \\\\\n",
      "$S_{th}$ & 0.03 & 0.03 & $\\mathrm{\\mu}$M \\\\\n",
      "$b$ & 21.25 & 34.0 & h$^{-1}$ \\\\\n",
      "$F$ & 0.05 & 0.05 & mM/mV \\\\\n",
      "$g_K$ & 70.0 & 70.0 & h$^{-1}$ \\\\\n",
      "$V_{K0}$ & 100.0 & 100.0 & mV \\\\\n",
      "$D_p$ & 0.12 & 0.12 & mM$^{-2}$h$^{-1}$ \\\\\n",
      "$K_{Imax}$ & 300.0 & - & mM \\\\\n",
      "$D_k$ & 7e+06 & 7e+06 & $\\mathrm{\\mu m^2/h}$ \\\\\n",
      "$K_m$ & 8.0 & 8.0 & mM \\\\\n",
      "$g_L$ & 18.0 & 18.0 & h$^{-1}$ \\\\\n",
      "$d_L$ & 4.0 & 4.0 & mV/mM \\\\\n",
      "$V_{L0}$ & -156.0 & -156.0 & mV \\\\\n",
      "$\\sigma$ & 0.1 & 0.1 & mM \\\\\n",
      "$g_v$ & 1.0 & 1.0 & mV$^{-1}$ \\\\\n",
      "$V_0$ & -150.0 & -150.0 & mV \\\\\n",
      "$\\alpha_\\mathcal{T}$ & 20.0 & 20.0 & $\\mathrm{\\mu}$M/h \\\\\n",
      "$\\gamma_\\mathcal{T}$ & 10.0 & 10.0 & $\\mathrm{h^{-1}}$ \\\\\n",
      "$g_\\mathcal{T}$ & 0.3 & 0.3 & mV$^{-1}$ \\\\\n",
      "$P_{grow}$ & 0.3 & 0.5 & h$^{-1}$ \\\\\n",
      "$\\gamma_{\\phi}$ & 0.0085 & 0.0085 & $\\mathrm{\\mu m}$ \\\\\n",
      "$a_{\\phi}$ & 0.012 & 0.012 & - \\\\\n",
      "$\\gamma_{D}$ & 0.0085 & 0.0085 & $\\mathrm{\\mu m}$ \\\\\n",
      "$a_{D}$ & 0.012 & 0.012 & - \\\\\n",
      "$\\phi$ & 5.0 & 5.0 & h$^{-1}$ \\\\\n"
     ]
    }
   ],
   "source": [
    "for pnum,par in enumerate(pars_ordered_table):\n",
    "    parname=par\n",
    "    units='-'\n",
    "    if par in pars_full['name'].values:\n",
    "        pf=pars_full[pars_full['name']==par]['value'].values[0]\n",
    "        if par in latex_dict.keys():\n",
    "            units_=latex_dict[par][1]\n",
    "            if len(units_)>0:\n",
    "                units=units_\n",
    "            if par in ['Dke', 'Da', 'Dg']:\n",
    "                pf=pf*100\n",
    "                pf='%2.e'%pf\n",
    "            elif par in ['gamma_dif', 'gamma_fl']:\n",
    "                pf=pf*0.1 #to go from su^-1 to um^-1, since 1 su=10 um\n",
    "                \n",
    "            else:\n",
    "                pf=str(pf)\n",
    "            parname=\"%s\"%(latex_dict[par][0])\n",
    "    else:\n",
    "        pf='-'\n",
    "    if par in pars_el['name'].values:\n",
    "        pe=pars_el[pars_el['name']==par]['value'].values[0]\n",
    "        if par in latex_dict.keys():\n",
    "            if par in ['Dke', 'Da', 'Dg']:\n",
    "                pe=pe*100\n",
    "                pe='%2.e'%pe\n",
    "            elif par in ['gamma_dif', 'gamma_fl']:\n",
    "                pe=pe*0.1 #to go from su^-1 to um^-1, since 1 su=10 um\n",
    "            else:\n",
    "                pe=str(pe) #+' '+latex_dict[par][1]           \n",
    "    else:\n",
    "        pe='-'\n",
    "    if par=='sigma':\n",
    "        pf=0.1\n",
    "        pe=0.1\n",
    "        parname=latex_dict[par][0]\n",
    "        units='mM'\n",
    "    \n",
    "    \n",
    "            \n",
    "    print parname, '&', pf, '&', pe, '&', units, \"\\\\\\\\\""
   ]
  },
  {
   "cell_type": "code",
   "execution_count": 9,
   "metadata": {
    "collapsed": false
   },
   "outputs": [
    {
     "name": "stdout",
     "output_type": "stream",
     "text": [
      "7200000\n",
      "3600000\n"
     ]
    }
   ],
   "source": [
    "for x in [72000, 36000]:\n",
    "    print x*100"
   ]
  },
  {
   "cell_type": "code",
   "execution_count": null,
   "metadata": {
    "collapsed": true
   },
   "outputs": [],
   "source": [
    "$7.2\\times 10^{6}$"
   ]
  },
  {
   "cell_type": "code",
   "execution_count": 9,
   "metadata": {
    "collapsed": false
   },
   "outputs": [
    {
     "data": {
      "text/plain": [
       "50.0"
      ]
     },
     "execution_count": 9,
     "metadata": {},
     "output_type": "execute_result"
    }
   ],
   "source": [
    "36000/720."
   ]
  },
  {
   "cell_type": "code",
   "execution_count": 10,
   "metadata": {
    "collapsed": false
   },
   "outputs": [
    {
     "data": {
      "text/plain": [
       "36.0"
      ]
     },
     "execution_count": 10,
     "metadata": {},
     "output_type": "execute_result"
    }
   ],
   "source": [
    "7.2*5"
   ]
  },
  {
   "cell_type": "code",
   "execution_count": null,
   "metadata": {
    "collapsed": true
   },
   "outputs": [],
   "source": []
  }
 ],
 "metadata": {
  "anaconda-cloud": {},
  "hide_input": false,
  "kernelspec": {
   "display_name": "Python [default]",
   "language": "python",
   "name": "python2"
  },
  "language_info": {
   "codemirror_mode": {
    "name": "ipython",
    "version": 2
   },
   "file_extension": ".py",
   "mimetype": "text/x-python",
   "name": "python",
   "nbconvert_exporter": "python",
   "pygments_lexer": "ipython2",
   "version": "2.7.13"
  }
 },
 "nbformat": 4,
 "nbformat_minor": 2
}
